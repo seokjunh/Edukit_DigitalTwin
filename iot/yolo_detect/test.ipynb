{
 "cells": [
  {
   "cell_type": "code",
   "execution_count": null,
   "metadata": {},
   "outputs": [],
   "source": [
    "%pip install ultralytics"
   ]
  },
  {
   "cell_type": "code",
   "execution_count": 2,
   "metadata": {},
   "outputs": [
    {
     "name": "stderr",
     "output_type": "stream",
     "text": [
      "Ultralytics YOLOv8.0.180  Python-3.11.4 torch-2.0.1+cpu CPU (Intel Core(TM) i5-8250U 1.60GHz)\n",
      "Setup complete  (8 CPUs, 7.9 GB RAM, 162.3/199.7 GB disk)\n"
     ]
    }
   ],
   "source": [
    "import ultralytics\n",
    "\n",
    "ultralytics.checks()"
   ]
  },
  {
   "cell_type": "code",
   "execution_count": 3,
   "metadata": {},
   "outputs": [
    {
     "name": "stdout",
     "output_type": "stream",
     "text": [
      "Requirement already satisfied: PyYAML in c:\\users\\user\\appdata\\local\\programs\\python\\python311\\lib\\site-packages (6.0.1)\n",
      "Note: you may need to restart the kernel to use updated packages.\n"
     ]
    }
   ],
   "source": [
    "%pip install PyYAML"
   ]
  },
  {
   "cell_type": "code",
   "execution_count": 13,
   "metadata": {},
   "outputs": [
    {
     "data": {
      "text/plain": [
       "'c:\\\\Users\\\\user\\\\Desktop\\\\ㅎㅅㅈ\\\\practice\\\\FinalProject_Edukit\\\\project\\\\iot\\\\yolo_detect'"
      ]
     },
     "execution_count": 13,
     "metadata": {},
     "output_type": "execute_result"
    }
   ],
   "source": [
    "import os\n",
    "os.getcwd()"
   ]
  },
  {
   "cell_type": "code",
   "execution_count": 14,
   "metadata": {},
   "outputs": [
    {
     "data": {
      "text/plain": [
       "{'names': ['DICE1',\n",
       "  'DICE2',\n",
       "  'DICE3',\n",
       "  'DICE4',\n",
       "  'DICE5',\n",
       "  'DICE6',\n",
       "  'RedChip',\n",
       "  'WhiteChip'],\n",
       " 'nc': 8,\n",
       " 'test': '/test/images/',\n",
       " 'train': 'train/images/',\n",
       " 'val': 'valid/images/'}"
      ]
     },
     "metadata": {},
     "output_type": "display_data"
    }
   ],
   "source": [
    "import yaml\n",
    "\n",
    "data = {\n",
    "    'train': 'train/images/',\n",
    "    'val': 'valid/images/',\n",
    "    'test': '/test/images/',\n",
    "    'nc': 8,\n",
    "    'names': ['DICE1', 'DICE2', 'DICE3', 'DICE4', 'DICE5', 'DICE6', 'RedChip', 'WhiteChip']\n",
    "}\n",
    "\n",
    "with open('data.yaml' , 'w') as f:\n",
    "    yaml.dump(data, f)\n",
    "\n",
    "with open('data.yaml' , 'r') as f:\n",
    "    data_yaml = yaml.safe_load(f)\n",
    "    display(data_yaml)\n"
   ]
  },
  {
   "cell_type": "code",
   "execution_count": 16,
   "metadata": {},
   "outputs": [],
   "source": [
    "from ultralytics import YOLO\n",
    "\n",
    "# model = YOLO(\"yolov8s.pt\")"
   ]
  },
  {
   "cell_type": "code",
   "execution_count": 44,
   "metadata": {},
   "outputs": [
    {
     "name": "stdout",
     "output_type": "stream",
     "text": [
      "Collecting supervision==0.1.0Note: you may need to restart the kernel to use updated packages.\n",
      "\n",
      "  Downloading supervision-0.1.0-py3-none-any.whl (14 kB)\n",
      "Requirement already satisfied: numpy in c:\\users\\user\\appdata\\local\\packages\\pythonsoftwarefoundation.python.3.11_qbz5n2kfra8p0\\localcache\\local-packages\\python311\\site-packages (from supervision==0.1.0) (1.26.0)\n",
      "Requirement already satisfied: opencv-python in c:\\users\\user\\appdata\\local\\packages\\pythonsoftwarefoundation.python.3.11_qbz5n2kfra8p0\\localcache\\local-packages\\python311\\site-packages (from supervision==0.1.0) (4.8.0.76)\n",
      "Installing collected packages: supervision\n",
      "Successfully installed supervision-0.1.0\n"
     ]
    }
   ],
   "source": [
    "%pip install supervision==0.1.0"
   ]
  },
  {
   "cell_type": "code",
   "execution_count": 17,
   "metadata": {},
   "outputs": [],
   "source": [
    "# model.train(data=\"data.yaml\", epochs=100, patience=30, batch=32, imgsz=640)\n",
    "model = YOLO(\"./runs/detect/train9/weights/best.pt\")\n",
    "# model.train(data=r\"C:\\Users\\User\\Desktop\\hereyolo\\yolo0919\\Process Detection.v5i.yolov8\\data.yaml\", epochs=100, patience=30, batch=32, imgsz=640)"
   ]
  },
  {
   "cell_type": "code",
   "execution_count": 1,
   "metadata": {},
   "outputs": [
    {
     "name": "stderr",
     "output_type": "stream",
     "text": [
      "\n",
      "0: 480x640 2 WhiteChips, 560.8ms\n",
      "Speed: 6.0ms preprocess, 560.8ms inference, 3.0ms postprocess per image at shape (1, 3, 480, 640)\n",
      "\n",
      "0: 480x640 3 WhiteChips, 603.3ms\n",
      "Speed: 8.0ms preprocess, 603.3ms inference, 1.0ms postprocess per image at shape (1, 3, 480, 640)\n",
      "\n",
      "0: 480x640 3 WhiteChips, 495.4ms\n",
      "Speed: 3.0ms preprocess, 495.4ms inference, 2.0ms postprocess per image at shape (1, 3, 480, 640)\n",
      "\n",
      "0: 480x640 2 WhiteChips, 612.2ms\n",
      "Speed: 3.0ms preprocess, 612.2ms inference, 2.0ms postprocess per image at shape (1, 3, 480, 640)\n",
      "\n",
      "0: 480x640 2 WhiteChips, 696.1ms\n",
      "Speed: 3.0ms preprocess, 696.1ms inference, 3.0ms postprocess per image at shape (1, 3, 480, 640)\n",
      "\n",
      "0: 480x640 2 WhiteChips, 590.3ms\n",
      "Speed: 4.0ms preprocess, 590.3ms inference, 2.0ms postprocess per image at shape (1, 3, 480, 640)\n",
      "\n",
      "0: 480x640 2 WhiteChips, 591.9ms\n",
      "Speed: 3.0ms preprocess, 591.9ms inference, 7.0ms postprocess per image at shape (1, 3, 480, 640)\n",
      "\n",
      "0: 480x640 2 WhiteChips, 814.2ms\n",
      "Speed: 6.0ms preprocess, 814.2ms inference, 4.0ms postprocess per image at shape (1, 3, 480, 640)\n",
      "\n",
      "0: 480x640 2 WhiteChips, 540.3ms\n",
      "Speed: 4.0ms preprocess, 540.3ms inference, 2.0ms postprocess per image at shape (1, 3, 480, 640)\n",
      "\n",
      "0: 480x640 2 WhiteChips, 550.2ms\n",
      "Speed: 3.0ms preprocess, 550.2ms inference, 1.0ms postprocess per image at shape (1, 3, 480, 640)\n",
      "\n",
      "0: 480x640 3 WhiteChips, 540.2ms\n",
      "Speed: 3.0ms preprocess, 540.2ms inference, 3.0ms postprocess per image at shape (1, 3, 480, 640)\n",
      "\n",
      "0: 480x640 2 WhiteChips, 548.2ms\n",
      "Speed: 5.0ms preprocess, 548.2ms inference, 4.0ms postprocess per image at shape (1, 3, 480, 640)\n",
      "\n",
      "0: 480x640 2 WhiteChips, 510.7ms\n",
      "Speed: 4.0ms preprocess, 510.7ms inference, 2.0ms postprocess per image at shape (1, 3, 480, 640)\n",
      "\n",
      "0: 480x640 2 WhiteChips, 479.7ms\n",
      "Speed: 4.0ms preprocess, 479.7ms inference, 1.0ms postprocess per image at shape (1, 3, 480, 640)\n",
      "\n",
      "0: 480x640 2 WhiteChips, 532.8ms\n",
      "Speed: 4.0ms preprocess, 532.8ms inference, 1.0ms postprocess per image at shape (1, 3, 480, 640)\n",
      "\n",
      "0: 480x640 3 WhiteChips, 488.6ms\n",
      "Speed: 4.0ms preprocess, 488.6ms inference, 1.5ms postprocess per image at shape (1, 3, 480, 640)\n",
      "\n",
      "0: 480x640 2 WhiteChips, 506.7ms\n",
      "Speed: 3.0ms preprocess, 506.7ms inference, 3.0ms postprocess per image at shape (1, 3, 480, 640)\n",
      "\n",
      "0: 480x640 (no detections), 455.1ms\n",
      "Speed: 4.0ms preprocess, 455.1ms inference, 1.0ms postprocess per image at shape (1, 3, 480, 640)\n",
      "\n",
      "0: 480x640 (no detections), 522.8ms\n",
      "Speed: 3.0ms preprocess, 522.8ms inference, 1.0ms postprocess per image at shape (1, 3, 480, 640)\n",
      "\n",
      "0: 480x640 (no detections), 459.7ms\n",
      "Speed: 3.0ms preprocess, 459.7ms inference, 1.0ms postprocess per image at shape (1, 3, 480, 640)\n",
      "\n",
      "0: 480x640 (no detections), 515.7ms\n",
      "Speed: 2.0ms preprocess, 515.7ms inference, 2.0ms postprocess per image at shape (1, 3, 480, 640)\n",
      "\n",
      "0: 480x640 (no detections), 482.6ms\n",
      "Speed: 4.0ms preprocess, 482.6ms inference, 1.0ms postprocess per image at shape (1, 3, 480, 640)\n",
      "\n",
      "0: 480x640 (no detections), 480.7ms\n",
      "Speed: 3.0ms preprocess, 480.7ms inference, 1.0ms postprocess per image at shape (1, 3, 480, 640)\n",
      "\n",
      "0: 480x640 (no detections), 580.7ms\n",
      "Speed: 3.0ms preprocess, 580.7ms inference, 4.0ms postprocess per image at shape (1, 3, 480, 640)\n",
      "\n",
      "0: 480x640 (no detections), 675.7ms\n",
      "Speed: 5.0ms preprocess, 675.7ms inference, 1.0ms postprocess per image at shape (1, 3, 480, 640)\n",
      "\n",
      "0: 480x640 (no detections), 458.6ms\n",
      "Speed: 5.0ms preprocess, 458.6ms inference, 1.0ms postprocess per image at shape (1, 3, 480, 640)\n",
      "\n",
      "0: 480x640 (no detections), 530.2ms\n",
      "Speed: 3.0ms preprocess, 530.2ms inference, 1.0ms postprocess per image at shape (1, 3, 480, 640)\n",
      "\n",
      "0: 480x640 (no detections), 452.7ms\n",
      "Speed: 3.0ms preprocess, 452.7ms inference, 1.0ms postprocess per image at shape (1, 3, 480, 640)\n",
      "\n",
      "0: 480x640 (no detections), 546.3ms\n",
      "Speed: 4.0ms preprocess, 546.3ms inference, 1.0ms postprocess per image at shape (1, 3, 480, 640)\n",
      "\n",
      "0: 480x640 (no detections), 782.5ms\n",
      "Speed: 7.0ms preprocess, 782.5ms inference, 2.0ms postprocess per image at shape (1, 3, 480, 640)\n",
      "\n",
      "0: 480x640 (no detections), 641.3ms\n",
      "Speed: 8.0ms preprocess, 641.3ms inference, 1.0ms postprocess per image at shape (1, 3, 480, 640)\n",
      "\n",
      "0: 480x640 (no detections), 581.9ms\n",
      "Speed: 4.0ms preprocess, 581.9ms inference, 2.0ms postprocess per image at shape (1, 3, 480, 640)\n",
      "\n",
      "0: 480x640 (no detections), 549.8ms\n",
      "Speed: 4.0ms preprocess, 549.8ms inference, 2.0ms postprocess per image at shape (1, 3, 480, 640)\n",
      "\n",
      "0: 480x640 (no detections), 527.0ms\n",
      "Speed: 5.0ms preprocess, 527.0ms inference, 1.0ms postprocess per image at shape (1, 3, 480, 640)\n"
     ]
    }
   ],
   "source": [
    "from ultralytics import YOLO\n",
    "import cv2\n",
    "from ultralytics.utils.plotting import Annotator  # ultralytics.yolo.utils.plotting is deprecated\n",
    "\n",
    "model = YOLO('./runs/detect/train9/weights/best.pt')\n",
    "\n",
    "cap = cv2.VideoCapture(1)\n",
    "cap.set(3, 640)\n",
    "cap.set(4, 480)\n",
    "\n",
    "while True:\n",
    "    _, frame = cap.read()\n",
    "    \n",
    "    img = cv2.cvtColor(frame, cv2.COLOR_BGR2RGB)\n",
    "\n",
    "    results = model.predict(img)\n",
    "\n",
    "    for r in results:\n",
    "        annotator = Annotator(frame)\n",
    "        boxes = r.boxes\n",
    "        for box in boxes:\n",
    "            b = box.xyxy[0]\n",
    "            c = box.cls\n",
    "            annotator.box_label(b, model.names[int(c)])\n",
    "          \n",
    "    frame = annotator.result()  \n",
    "\n",
    "    cv2.imshow('YOLO V8 Detection', frame)     \n",
    "    if cv2.waitKey(1) & 0xFF == ord('q'):\n",
    "        break\n",
    "\n",
    "cap.release()\n",
    "cv2.destroyAllWindows()"
   ]
  }
 ],
 "metadata": {
  "kernelspec": {
   "display_name": "Python 3",
   "language": "python",
   "name": "python3"
  },
  "language_info": {
   "codemirror_mode": {
    "name": "ipython",
    "version": 3
   },
   "file_extension": ".py",
   "mimetype": "text/x-python",
   "name": "python",
   "nbconvert_exporter": "python",
   "pygments_lexer": "ipython3",
   "version": "3.11.4"
  },
  "orig_nbformat": 4
 },
 "nbformat": 4,
 "nbformat_minor": 2
}
